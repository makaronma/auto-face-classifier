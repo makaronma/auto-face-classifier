{
 "cells": [
  {
   "cell_type": "code",
   "execution_count": 1,
   "metadata": {},
   "outputs": [],
   "source": [
    "import matplotlib.image as img\n",
    "import matplotlib.pyplot as plt\n",
    "import face_recognition\n",
    "import cv2\n",
    "from PIL import Image"
   ]
  },
  {
   "cell_type": "code",
   "execution_count": 2,
   "metadata": {},
   "outputs": [],
   "source": [
    "img_path = \"./samples/bill-gates-1-10.jpg\"\n",
    "fr_img = face_recognition.load_image_file(img_path)\n",
    "face_locations = face_recognition.face_locations(fr_img, 4)\n",
    "\n",
    "for i , face_location in enumerate(face_locations):\n",
    "    top, right, bottom, left = face_location\n",
    "    face_image = fr_img[top:bottom, left:right]\n",
    "    pil_image = Image.fromarray(face_image)\n",
    "    cv2.imwrite(f\"samples-out/face{i}.jpg\", cv2.cvtColor(face_image, cv2.COLOR_BGR2RGB))\n",
    "\n",
    "img = cv2.imread(img_path)"
   ]
  }
 ],
 "metadata": {
  "kernelspec": {
   "display_name": "db-proj",
   "language": "python",
   "name": "python3"
  },
  "language_info": {
   "codemirror_mode": {
    "name": "ipython",
    "version": 3
   },
   "file_extension": ".py",
   "mimetype": "text/x-python",
   "name": "python",
   "nbconvert_exporter": "python",
   "pygments_lexer": "ipython3",
   "version": "3.11.6"
  }
 },
 "nbformat": 4,
 "nbformat_minor": 2
}
